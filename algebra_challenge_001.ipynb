{
  "nbformat": 4,
  "nbformat_minor": 0,
  "metadata": {
    "colab": {
      "provenance": [],
      "authorship_tag": "ABX9TyOWwqo0rFi8MAD4OytLl+Ug",
      "include_colab_link": true
    },
    "kernelspec": {
      "name": "python3",
      "display_name": "Python 3"
    },
    "language_info": {
      "name": "python"
    }
  },
  "cells": [
    {
      "cell_type": "markdown",
      "metadata": {
        "id": "view-in-github",
        "colab_type": "text"
      },
      "source": [
        "<a href=\"https://colab.research.google.com/github/quentaurus/EsterFun/blob/master/algebra_challenge_001.ipynb\" target=\"_parent\"><img src=\"https://colab.research.google.com/assets/colab-badge.svg\" alt=\"Open In Colab\"/></a>"
      ]
    },
    {
      "cell_type": "markdown",
      "source": [
        "#Solve the integer equation:\n",
        "\n",
        "$\\frac{5x^5+6x^3-29x^2+56x-64}{x^3+x-3}=5x^2$\n",
        "##Simplify:\n",
        "Expand\n",
        "$5x^5+6x^3-29x^2+56x-64=5x^2(x^3+x-3)=5x^5+5x^3-15x^2$\n",
        "Reduce\n",
        "$x^3-14x^2+56x-64=0$\n",
        "##General Polynomial Equation\n",
        "Now consider the transformation of a general 3:rd degree polynom equation from its root product formulation to its canonical form:\n",
        "\n",
        "$(x-a)(x-b)(x-c) = 0 \\Leftrightarrow (x-a)(x^2-bx-cx+bc) = 0 \\Leftrightarrow$\n",
        "$(x-a)(x^2-(b+c)x+bc) = 0 \\Leftrightarrow$\n",
        "$x^3-(b+c)x^2+bcx -ax^2+a(b+c)x-abc = 0 \\Leftrightarrow$\n",
        "$x^3-(a+b+c)x^2+(ab+ac+bc)x-abc = 0$\n",
        "\n",
        "So if you have a general 3:rd degree polynomial equation $x^3 + k_2x^2 + k_1x + k_0 = 0$ with real roots, then\n",
        "\n",
        "$\n",
        "\\begin{cases}\n",
        "k_0=-abc \\\\\n",
        "k_1=ab+ac+bc \\\\\n",
        "k_2=-(a+b+c)\n",
        "\\end{cases}\n",
        "$\n",
        ", where $a, b$, and $c$ are the real valued roots\n",
        "\n",
        "##Solution\n",
        "Now look at our simplified problem again:\n",
        "\n",
        "$x^3-14x^2+56x-64=0$\n",
        "\n",
        "If the roots are $a, b$, and $c$, then we know that:\n",
        "\n",
        "$\n",
        "\\begin{cases}\n",
        "64=abc \\\\\n",
        "56=ab+ac+bc \\\\\n",
        "14=a+b+c\n",
        "\\end{cases}\n",
        "$\n",
        "\n",
        "Since we know that all the roots are real valued integers, we have that:\n",
        "\n",
        "$64 = 2\\cdot2\\cdot2\\cdot2\\cdot2\\cdot2=abc$\n",
        "\n",
        "But since $a+b+c=14$, the maximum root must be less than $14$.\n",
        "\n",
        "That gives us three possibilities\n",
        "\n",
        "$\n",
        "\\begin{cases}\n",
        "64=1\\cdot8\\cdot8 \\Rightarrow 1+8+8=17 \\\\\n",
        "64=2\\cdot4\\cdot8 \\Rightarrow 2+4+8=14\n",
        "\\end{cases}\n",
        "$\n",
        "\n",
        "And we see that the second option satisfies the value for $k_2$.\n",
        "\n",
        "Now finally double check the $k_1$ value:\n",
        "$ab+ac+bc = 2\\cdot4 + 2\\cdot8 + 4\\cdot8 = 8+16+32 = 56$\n",
        "\n",
        "Great!\n",
        "\n",
        "Now we know the roots for the equatino to bee:\n",
        "\n",
        "$\n",
        "\\begin{cases}\n",
        "x_1 = 2 \\\\\n",
        "x_2 = 4 \\\\\n",
        "x_3 = 8\n",
        "\\end{cases}\n",
        "$\n"
      ],
      "metadata": {
        "id": "gMMJKpp-0b-d"
      }
    },
    {
      "cell_type": "code",
      "source": [],
      "metadata": {
        "id": "51acdasV3ip1"
      },
      "execution_count": null,
      "outputs": []
    },
    {
      "cell_type": "markdown",
      "source": [
        "#Lite kul matte i LaTeX\n",
        "\n",
        "##Enkla saker\n",
        "$x=1$\n",
        "\n",
        "$x=1+2+3+4$\n",
        "\n",
        "$x=1x+2x^2+3x^3+4x^4$\n",
        "\n",
        "$y = \\frac{x+2x^2+3x^3+4x^4}{x+x^2+3x^3+4x^4}\\neq1$\n",
        "\n"
      ],
      "metadata": {
        "id": "lB1eMafLD9sA"
      }
    }
  ]
}